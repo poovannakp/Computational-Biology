{
 "cells": [
  {
   "cell_type": "markdown",
   "metadata": {},
   "source": [
    "## Median_search"
   ]
  },
  {
   "cell_type": "code",
   "execution_count": 16,
   "metadata": {},
   "outputs": [
    {
     "data": {
      "text/plain": [
       "allPermutations (generic function with 1 method)"
      ]
     },
     "execution_count": 16,
     "metadata": {},
     "output_type": "execute_result"
    }
   ],
   "source": [
    "## Returns all possible permutations of length l, with characters A,C,G,T\n",
    "##\n",
    "## Example: \n",
    "## Input:  length=2\n",
    "## Output: [\"AA\", \"AC\", \"AT\", \"AG\", \"CA\", \"CC\", \"CT\", \"CG\", \"TA\", \"TC\", \"TT\", \"TG\", \"GA\", \"GC\", \"GT\", \"GG\"]\n",
    "function allPermutations(length)\n",
    "    \n",
    "    if length==1\n",
    "        return [\"A\",\"C\",\"T\",\"G\"]\n",
    "    end\n",
    "    \n",
    "    suffix_permutations=allPermutations(length-1)\n",
    "    \n",
    "    ans=[]\n",
    "    for c in \"ACTG\"\n",
    "       for suffix in suffix_permutations\n",
    "            push!(ans,c*suffix)\n",
    "        end\n",
    "    end\n",
    "    \n",
    "    return ans\n",
    "end"
   ]
  },
  {
   "cell_type": "code",
   "execution_count": 72,
   "metadata": {},
   "outputs": [
    {
     "data": {
      "text/plain": [
       "getMismatches (generic function with 1 method)"
      ]
     },
     "execution_count": 72,
     "metadata": {},
     "output_type": "execute_result"
    }
   ],
   "source": [
    "## Given two strings of equal length, returns the no. of mismatches characters\n",
    "##\n",
    "## Example: \n",
    "## Input: string1=\"ATG\", string2=\"ACG\"\n",
    "## Output: 1\n",
    "function getMismatches(string1,string2)\n",
    "    mismatches = 0\n",
    "    for (c1,c2) in zip(string1,string2)\n",
    "        if c1!=c2\n",
    "            mismatches+=1\n",
    "        end\n",
    "    end\n",
    "\n",
    "    return mismatches\n",
    "end"
   ]
  },
  {
   "cell_type": "code",
   "execution_count": 75,
   "metadata": {},
   "outputs": [
    {
     "data": {
      "text/plain": [
       "medianString (generic function with 2 methods)"
      ]
     },
     "execution_count": 75,
     "metadata": {},
     "output_type": "execute_result"
    }
   ],
   "source": [
    "## dna - all dna strings in an array\n",
    "## l   - length of motif\n",
    "##\n",
    "## Returns the best motif, score for the best motif, and the start positions for the motif\n",
    "function medianString(dna,l)\n",
    "    \n",
    "    t = length(dna)    ##  No. of dna sequences\n",
    "    n = length(dna[1]) ##  length of each dna sequence\n",
    "   \n",
    "    scores = [l for i in 1:t]\n",
    "    start =  [1 for i in 1:t]\n",
    "    \n",
    "    best_score = l*t \n",
    "    best_positions = []\n",
    "    \n",
    "    all_permutations = allPermutations(l)\n",
    "    median_string = all_permutations[1]\n",
    "    \n",
    "    for permutation in all_permutations\n",
    "\n",
    "        scores = [l for i in 1:t]\n",
    "        start =  [1 for i in 1:t]\n",
    "\n",
    "        for j in 1:t   \n",
    "            dna_seq = dna[j]\n",
    "            for start_position in 1:n-l+1\n",
    "\n",
    "                mismatches = getMismatches(permutation,dna_seq[start_position:start_position+l-1])\n",
    "\n",
    "                if scores[j]>mismatches\n",
    "                    scores[j] = mismatches\n",
    "                    start[j] = start_position\n",
    "                end\n",
    "            end\n",
    "        end\n",
    "\n",
    "        curr_score = sum(scores)\n",
    "        if curr_score<best_score\n",
    "             best_score = curr_score\n",
    "             best_positions = deepcopy(start)\n",
    "             median_string = permutation\n",
    "        end\n",
    "    end\n",
    "    \n",
    "    return median_string,best_score,best_positions\n",
    "end"
   ]
  },
  {
   "cell_type": "code",
   "execution_count": 76,
   "metadata": {},
   "outputs": [
    {
     "data": {
      "text/plain": [
       "(\"CGC\", 2, [2, 1, 5, 3])"
      ]
     },
     "execution_count": 76,
     "metadata": {},
     "output_type": "execute_result"
    }
   ],
   "source": [
    "position,score,permutation = medianString([\"TGGCGTCG\",\"GGCGGGCG\",\"TCTTCGCC\",\"CCCGCTCC\"],3)"
   ]
  },
  {
   "cell_type": "markdown",
   "metadata": {},
   "source": [
    "## Branch and Bound"
   ]
  },
  {
   "cell_type": "code",
   "execution_count": 90,
   "metadata": {},
   "outputs": [
    {
     "data": {
      "text/plain": [
       "branch_and_bound_with_median_search (generic function with 2 methods)"
      ]
     },
     "execution_count": 90,
     "metadata": {},
     "output_type": "execute_result"
    }
   ],
   "source": [
    "## dna - all dna strings in an array\n",
    "## l   - length of motif\n",
    "##\n",
    "## Returns the best motif, score for the best motif, and the start positions for the motif\n",
    "function branch_and_bound_with_median_search(dna,l,verbose)\n",
    "    \n",
    "    t = length(dna)    ##  No. of dna sequences\n",
    "    n = length(dna[1]) ##  length of each dna sequence\n",
    "   \n",
    "    scores = [l for i in 1:t]\n",
    "    start =  [1 for i in 1:t]\n",
    "    \n",
    "    best_score = l*t \n",
    "    best_positions = []\n",
    "    \n",
    "    all_permutations = allPermutations(l)\n",
    "    median_string = all_permutations[1]\n",
    "    \n",
    "    for permutation in all_permutations\n",
    "\n",
    "        scores = [l for i in 1:t]\n",
    "        start =  [1 for i in 1:t]\n",
    "        \n",
    "        current_score = 0\n",
    "        for j in 1:t  \n",
    "            dna_seq = dna[j]\n",
    "            for start_position in 1:n-l+1\n",
    "                mismatches = getMismatches(permutation,dna_seq[start_position:start_position+l-1])\n",
    "                if scores[j]>mismatches\n",
    "                    scores[j] = mismatches\n",
    "                    start[j] = start_position\n",
    "                end\n",
    "            end\n",
    "            current_score+=scores[j]\n",
    "            if current_score>=best_score\n",
    "                if verbose==true\n",
    "                    println(\"Branching as initial results are bad for \",permutation,\" after \",j,\" sequences.\")\n",
    "                end\n",
    "                break\n",
    "            end\n",
    "        end\n",
    "\n",
    "        curr_score = sum(scores)\n",
    "        if curr_score<best_score\n",
    "             best_score = curr_score\n",
    "             best_positions = deepcopy(start)\n",
    "             median_string = permutation\n",
    "        end\n",
    "\n",
    "    end\n",
    "    \n",
    "    return median_string,best_score,best_positions\n",
    "end"
   ]
  },
  {
   "cell_type": "code",
   "execution_count": 91,
   "metadata": {},
   "outputs": [
    {
     "data": {
      "text/plain": [
       "(\"CGC\", 2, [2, 1, 5, 3])"
      ]
     },
     "execution_count": 91,
     "metadata": {},
     "output_type": "execute_result"
    }
   ],
   "source": [
    "position,score,permutation = branch_and_bound_with_median_search([\"TGGCGTCG\",\"GGCGGGCG\",\"TCTTCGCC\",\"CCCGCTCC\"],3,false)"
   ]
  },
  {
   "cell_type": "markdown",
   "metadata": {},
   "source": [
    "## Genetic Algorithm"
   ]
  },
  {
   "cell_type": "code",
   "execution_count": 22,
   "metadata": {},
   "outputs": [],
   "source": [
    "#import Pkg \n",
    "#Pkg.add(\"Distributions\")\n",
    "#include(\"common.jl\")\n",
    "using Distributions"
   ]
  },
  {
   "cell_type": "code",
   "execution_count": 21,
   "metadata": {},
   "outputs": [
    {
     "data": {
      "text/plain": [
       "is_motif_valid (generic function with 3 methods)"
      ]
     },
     "execution_count": 21,
     "metadata": {},
     "output_type": "execute_result"
    }
   ],
   "source": [
    "function generate_random_potential_motif(motif_length)\n",
    "    motif=sample( [\"a\",\"c\",\"t\",\"g\"] , motif_length; replace=true, ordered=false)\n",
    "    motif=join(motif)\n",
    "    return motif\n",
    "end\n",
    "\n",
    "function calculate_hamming_distance(string, motif)\n",
    "    error = 0\n",
    "    for i in 1:length(motif)\n",
    "        if string[i] != motif[i]\n",
    "            error += 1\n",
    "        end\n",
    "    end\n",
    "    return error\n",
    "end\n",
    "\n",
    "function mutate_and_generate_adjacent_motif(motif, all_created_motifs)\n",
    "    \n",
    "    this_motif_characters = split(motif, \"\")\n",
    "    random_index = rand(1:length(motif))\n",
    "    random_char = rand(motif_characters)\n",
    "    \n",
    "    while motif[random_index] == random_char\n",
    "        random_char = rand(motif_characters)\n",
    "    end\n",
    "    \n",
    "    this_motif_characters[random_index] = random_char\n",
    "    \n",
    "    generated_motif = join(this_motif_characters)\n",
    "    \n",
    "    if generated_motif in all_created_motifs\n",
    "        return mutate_and_generate_adjacent_motif(motif,all_created_motifs)\n",
    "    end\n",
    "    \n",
    "    return generated_motif\n",
    "end\n",
    "\n",
    "function get_all_substrings(string, l)\n",
    "    substrings = []\n",
    "    for start in 1:length(string)-l+1\n",
    "        push!(substrings, string[start:start+l-1])\n",
    "    end\n",
    "    return substrings\n",
    "end\n",
    "\n",
    "\n",
    "function validate_by_hamming_distance(string, motif, goal )\n",
    "\n",
    "    string_motifs = get_all_substrings(string, length(motif))\n",
    "    for curr_motif in string_motifs\n",
    "        error =  calculate_hamming_distance(curr_motif, motif)\n",
    "        if error <= goal\n",
    "            return true\n",
    "        end\n",
    "    end\n",
    "    return false\n",
    "end\n",
    "\n",
    "\n",
    "function is_motif_valid(input_strings, motif, goal=1 )\n",
    "    for string in input_strings\n",
    "        if validate_by_hamming_distance(string, motif, goal) == false\n",
    "            return false\n",
    "        end\n",
    "    end\n",
    "    return true\n",
    "end\n",
    "\n",
    "function calculate_minimum_hamming_distance(motif, string)\n",
    "    substrings=get_all_substrings(string, length(motif))\n",
    "    return minimum([calculate_hamming_distance(str, motif) for str in  substrings])\n",
    "end\n",
    "\n",
    "function calculate_fitness_score(input_strings, motif)\n",
    "    fitness_score = 0\n",
    "    for string in input_strings\n",
    "        fitness_score += calculate_minimum_hamming_distance(motif, string)\n",
    "    end\n",
    "    return (len(motif) * length(input_strings)) - fitness_score\n",
    "end"
   ]
  },
  {
   "cell_type": "code",
   "execution_count": 7,
   "metadata": {},
   "outputs": [
    {
     "data": {
      "text/plain": [
       "generate_initial_population (generic function with 1 method)"
      ]
     },
     "execution_count": 7,
     "metadata": {},
     "output_type": "execute_result"
    }
   ],
   "source": [
    "function reproduce(mom, dad, l)\n",
    "    random_index = rand(1:l)\n",
    "    son = mom[1:random_index] + dad[random_index+1:end]\n",
    "    daughter = dad[1:random_index] + mom[random_index+1:end]\n",
    "    return (son, daughter)\n",
    "end\n",
    "\n",
    "function generate_initial_population(all_created_motifs,motif_len,size)\n",
    "    population = []\n",
    "    for i in 1:size\n",
    "        motif = generate_random_potential_motif(motif_len)\n",
    "        push!(population, motif)\n",
    "        push!(all_created_motifs, motif)\n",
    "    end\n",
    "    return collect(Set(population))\n",
    "end\n",
    "\n",
    "function get_random_from_population(population, partner=[])\n",
    "    random_index = rand(1:length(population))\n",
    "    motif = population[random_index]\n",
    "    if ((!isempty(partner)) && (partner == motif))\n",
    "        return get_random_from_population(population, partner)\n",
    "    else\n",
    "        return motif, get_fitness_score_percentage(motif)\n",
    "    end\n",
    "end\n",
    "\n",
    "function get_fitness_score_percentage(input_strings,motif,n)\n",
    "    return calculate_fitness_score(input_strings,motif) / (length(motif) * n)\n",
    "end"
   ]
  },
  {
   "cell_type": "code",
   "execution_count": null,
   "metadata": {},
   "outputs": [],
   "source": [
    "function genetic_algorithm(input_strings,motif_len,size,verbose=false)\n",
    "    n=length(input_strings[0])\n",
    "    time_start = time()\n",
    "    done = false\n",
    "    answer = \"\"\n",
    "    most_close_to_answer = \"\"\n",
    "    most_close_to_answer_score = 0\n",
    "    all_created_motifs=[]\n",
    "    population = generate_initial_population(all_created_motifs,size)\n",
    "    while done==false\n",
    "        new_population = []\n",
    "        while length(population) < size\n",
    "            push!(population, generate_random_potential_motif(motif_len))\n",
    "        end\n",
    "        for i in 1:length(population)\n",
    "            #sleep(0.1)\n",
    "            (random_motif_dad, dad_fitness_score) = get_random_from_population(population, [])\n",
    "            (best_motif, best_score) = (random_motif_dad, dad_fitness_score)\n",
    "            (random_motif_mom, mom_fitness_score) = get_random_from_population(population, random_motif_dad)\n",
    "            if mom_fitness_score > best_score\n",
    "                (best_motif, best_score) = (random_motif_mom, mom_fitness_score)\n",
    "            end\n",
    "            (motif_son, motif_daughter) = reproduce(random_motif_mom, random_motif_dad, l)\n",
    "            if verbose==true\n",
    "                print(\"\\n\", motif_son, \" is child of \", random_motif_mom, \" and \", random_motif_dad, \"!\")\n",
    "                print(\"\\n\", motif_daughter, \" is child of \", random_motif_mom, \" and \", random_motif_dad, '!')\n",
    "            end\n",
    "            random_probability = rand(Uniform(0, 1))\n",
    "            son_score = get_fitness_score_percentage(input_strings,motif_son,n)\n",
    "            if son_score > best_score\n",
    "                (best_motif, best_score) = (motif_son, son_score)\n",
    "            else random_probability < 0.1\n",
    "                motif_son = mutate_and_generate_adjacent_motif(motif_son, all_created_motifs)\n",
    "                son_score = get_fitness_score_percentage(input_strings,motif_son,n)\n",
    "                if son_score > best_score\n",
    "                    (best_motif, best_score) = (motif_son, son_score)\n",
    "                end\n",
    "            end\n",
    "\n",
    "            daughter_score = get_fitness_score_percentage(motif_daughter)\n",
    "            if daughter_score > best_score\n",
    "                (best_motif, best_score) = (motif_daughter, daughter_score)\n",
    "            else random_probability < 0.1\n",
    "                motif_daughter = mutate_and_generate_adjacent_motif(motif_daughter, all_created_motifs)\n",
    "                daughter_score = get_fitness_score_percentage(input_strings,motif_daughter,n)\n",
    "                if daughter_score > best_score\n",
    "                    (best_motif, best_score) = (motif_daughter, daughter_score)\n",
    "                end\n",
    "            end\n",
    "\n",
    "            if son_score > daughter_score\n",
    "                push!(new_population, motif_son)\n",
    "            else\n",
    "                push!(new_population, motif_daughter)\n",
    "            end\n",
    "\n",
    "            if (isempty(most_close_to_answer) || best_score > most_close_to_answer_score)\n",
    "                (most_close_to_answer, most_close_to_answer_score) = (best_motif, best_score)\n",
    "            end\n",
    "            print(best_motif, \" is best motif with fitness of \", string(get_fitness_score_percentage(best_motif)))\n",
    "            push!(new_population, best_motif)\n",
    "        end\n",
    "        population = collect(Set(new_population))\n",
    "\n",
    "        if time() - ga_time > enough_time\n",
    "            done = True\n",
    "        end\n",
    "        for motif in population\n",
    "            if is_motif_valid(motif) == true\n",
    "                done = true\n",
    "                answer = motif\n",
    "                break\n",
    "            end\n",
    "        end\n",
    "    end\n",
    "    \n",
    "    if !isempty(answer)\n",
    "        return answer\n",
    "    else\n",
    "        return Dict(\"best_answer\"=>most_close_to_answer, \"best_score\"=>most_close_to_answer_score)\n",
    "    end\n",
    "end\n",
    "\n",
    "st = time()\n",
    "answer = implement_genetic_algorithm(50)\n",
    "if string(answer) == answer\n",
    "    print(\"\\n\", answer, \" is a valid motif.\")\n",
    "else\n",
    "    print(\"\\nBest found motif is \", answer[\"best_answer\"], \" with fitness score of \", string(answer[\"best_score\"]))\n",
    "end\n",
    "elapsed = time() - st"
   ]
  },
  {
   "cell_type": "code",
   "execution_count": null,
   "metadata": {},
   "outputs": [],
   "source": [
    "input_strings = [\n",
    "    \"AAAATTATTCTTCCTTCGCTTTGTTTTTAGACATAATGTTAAATTTATTTTGAAATTTAAAGCAACATAAAAGAACATGTGATTTTTCTACTTATTGAAAGAGAGAAAGGAAAAAAATATGAAACAGGGATGGAAAGAATCCTATGCCTGGTGAAGGTCAAGGGTTCTCATAACCTACAGAGAATTTGGGGTCAGCCTGTCCTATTGTATATTATGGCAAAGATAATCATCATCTCATTTGGGTCCATTTTCCTCTCCATCTCTGCTTAACTGAAGATCCCATGAGATATACTCACACTGAATCTAAATAGCCTATCTCAGGGCTTGAATCACATGTGGGCCACAGCAGGAATGGGAACATGGAATTTCTAAGTCCTATCTTACTTGTTATTGTTGCTATGTCTTTTTCTTAGTTTGCATCTGAGGCAACATCAGCTTTTTCAGACAGAATGGCTTTGGAATAGTAAAAAAGACACAGAAGCCCTAAAATATGTATGTATGTATATGTGTGTGTGCATGCGTGAGTACTTGTGTGTAAATTTTTCATTATCTATAGGTAAAAGCACACTTGGAATTAGCAATAGATGCAATTTGGGACTTAACTCTTTCAGTATGTCTTATTTCTAAGCAAAGTATTTAGTTTGGTTAGTAATTACTAAACACTGAGAACTAAATTGCAAACACCAAGAACTAAAATGTTCAAGTGGGAAATTACAGTTAAATACCATGGTAATGAATAAAAGGTACAAATCGTTTAAACTCTTATGTAAAATTTGATAAGATGTTTTACACAACTTTAATACATTGACAAGGTCTTGTGGAGAAAACAGTTCCAGATGGTAAATATACACAAGGGATTTAGTCAAACAATTTTTTGGCAAGAATATTATGAATTTTGTAATCGGTTGGCAGCCAATGAAATACAAAGATGAGTCTAGTTAATAATCTACAATTATTGGTTAAAGAAGTATATTAGTGCTAATTTCCCTCCGTTTGTCCT\",\n",
    "    \"CAGCTTTGCGCCTCCACTGTCACCCTCAGGAATGTTCCACATACTCAGCGAGTATGCTTGGGGGGCAAAAGGGTGAAAGATACAAAAGCTTCTGATATCTATTTAACTGATTTCACCCAAATGCTTTGAACCTGGGAATGTACCTCTCCCCCTCCCCCACCCCCAACAGGAGTGAGACAAGGGCCAGGGCTATTGCCCCTGCTGACTCAATATTGGCTAATCACTGCCTAGAACTGATAAGGTGATCAAATGACCAGGTGCCTTCAACCTTTACCCTGGTAGAAGCCTCTTATTCACCTCTTTTCCTGCCAGAGCCCTCCATTGGGAGGGGACGGGCGGAAGCTGTTTTCTGAATTTGTTTTACTGGGGGTAGGGTATGTTCAGTGATCAGCATCCAGGTCATTCTGGGCTCTCCTGTTTTCTCCCCGTCTCATTACACATTAACTCAAAAACGGACAAGATCATTTACACTTGCCCTCTTACCCGACCCTCATTCCCCTAACCCCCATAGCCCTCAACCCTGTCCCTGATTTCAATTCCTTTCTCCTTTCTTCTGCTCCCCAATATCTCTCTGCCAAGTTGCAGTAAAGTGGGATAAGGTTGAGAGATGAGATCTACCCATAATGGAATAAAGACACCATGAGCTTTCCATGGTATGATGGGTTGATGGTATTCCATGGGTTGATATGTCAGAGCTTTCCAGAGAAATAACTTGGAATCCTGCTTCCTGTTGCACTCAAGTCCAAGGACCTCAGATCTCAAAAGAATGAACCTCAAATATACCTGAAGTGTACCCCCTTAGCCTCCACTAAGAGCTGTACCCCCTGCCTCTCACCCCATCACCATGAGTCTTCCATGTGCTTGTCCTCTCCTCCCCCATTTCTCCAACTTGTTTATCCTCACATAATCCCTGCCCCACTGGGCCCATCCATAGTCCCTGTCACCTGACAGGGGGTGGGTAAACAGACAGGTATATAGCCCCTTCCTCTCCAGCCAGGGC\",\n",
    "    \"TTGACAGACAGTGTGGAGGGATTACTTGAATCTTGTGAATAGAGGAAAGAGTAGAATCAGATTATCCTGACTCCTGCCTGAAGCTTTACATATTCAGAGAAAAATGTTGGAAGAAACTTTGATATAATGCTATGTCTGTGATCAGGCACACATTTTACTGGACTTTTACTGTCAGGGCCGTCATTTAGTGCCAAGATGTCTAGAGAGTTCTTAATAAGTGTACTCAATTGGCTGAGAAAATGTGTCCATGCAAAAAACCAAACACCGCGTGTTCTCACTCATAGATGGGAATTGAACAATGAGAATACTTGGACACAGGAAGGGGAACATCACACTCTGGGGACTGTTGTGGGGTGGGGGGAGGGGGGAGGGATAGCATTAGAAGATATACCTAATGCTAAATGATGAGTTAATGGGTGCAGCACACCAGCATGGCACATGTATACATATGTAACTAACCTGCACATTGTGCACATGTACCCTAAAACTTAAAGTATAATAATAATAAAAAAATGTGTCCATGGCTCTGGGAGGAGCATGTTTGTTTTCCTCATTTCCCAGTCTGTAAATAAGCAAATTGAAAGGGGTTAGTGATAATGTCCATCTCCAGAAGCTGTCAGATTTCCTTTGTCAAACTCTATGATTTGGGCTGAAGTAGGTGTTGGAGAGGCAGCTACCACGTGCACCCAGATGGCCACTCGTTTAATATGTTACCATTTCCCATTATTTTCGCAGGATAGATAGCCAAAGTGGAGCCCTGAGAGATTTCTTCATTTTTCCTGTCATAAAGAATTGGTAATTCAGTAGTCATAGGAGTTTGTAATAAATAACTCACATTGATTTCTCTGTTCTGAAATAATTTTGCTTCCCCTCTTCCCGAAGCTCTGACACCTGCCCCAACAAGCAATGTTGGAAAATTATTTACATAGTGGCGCAAACTCCCTTACTGCTTTGGATATAAATCCAGGCAGGAGGAGGTAGCTCTAAGGCAAGAGATCTA\",\n",
    "    \"ATACACGTACTACACATTGGACTCTTGGGTAGTCTCTAGGGCTGTAGCAAGGAGCCTTGCTCCCAAGGGACTCATTTACACAATCCTGTGAACGGACCAAGAGTAAACAGTGTGCTCAATGCTGTGCCTACGTGTGTTAGCCCACGCGGCCAGCCTGAGGAGTCAGGGAAGGCTCCCCTAGGCAAAGCCCCCAACCAGAATCAAGTCTTAATGGTTAAAGAGCTCCATCACCCAAAAAGGATTGAGGGCCTACCTTCAACTGAACAGCTAATGCATAATCTCAGAAACTGTGAGTCAAAATTCCCTGGAATAACTCCACTTTATCCCCAATCTCCTTGCCACCTAGACCAAGGTCCATTCACCACCCTGTCCCCAGCACTGACTGCACTGCTGTGGCCACACTAAAGCTTGGCTCAAGACGGAGGAGGAGTGAGGAAGCTGCTGCACCAATATGGCTGGTTGAGGCCGCCCAAGGTCCTAGAAGGAGGAAGTGGGTAAATGCCATATCCAAAAAGATACAGAAGCCTCAGGTTTTATCGGGGGCAGCAGCTTCCTTCTCCTTCCCCGACCTGTGGCCAAGTCACAAAGCACCACAGCTGTACAGCCAGATGGGGGAAGGGAGGAGATTAGAACTGTAGGCTAGAGTAGACAAGTATGGACCAGTTCACAATCACGCTATCCCAAGCAGAAAGTGATGGTGGCTTGGACTAGCACGGTGGTAGTAGAGATGGGGTAAAGATTCAAGAGACATCATTGATAGGCAGAACCAATAGGACATGGTAATAAACTATTCTCAGGAAAGGGGAGGAGTCATGGCTTTCAGCCATGAGCATCCACCCTCTGGGTGGCCTCACCCACTTCCTGGCAATTCTAGCCACCATGAGTCCAGGGGCTATAGCCCTTTGCTCTGCCCGTTGCTCAGCAAGTTACTTGGGGTTCCAGTTTGATAAGAAAAGACTTCCTGTGGAGGAATCTGAAGGGAAGGAGGAGGAGCTGGCCC\",\n",
    "    \"TGGGAGGCAAAGATGGTGGCAGGTGGGTGGGAAAATGTGGGGTTTGGGGGTCACAGGAGAGACCAAGGGGCAGGCCTGGAGCATGGCACGCTCCCTGATCACAGCTCTCCACTGGAAGGCCATGGAGGGAGTGATGGGGAGAGCCTGCAACTCCTGGAGATAAGCCTGATTCTGACTTTCTTTGAAGGATTTTTTTCTTTCGACTTCTTTCCTGTGAAAGAGAATATCCGAGAAATGAGAATTTTAACTAAAGAGAAAACCTTTGCATTTGCTACTGATAAATATCTGGCCTATGCGGGAAAGTCATGGGTGCCCTGGGATTCTGGCTCCACTGCTAACAAGACCTTGTTAGACCTTCTTAACTGCCCCTCCAGAGAGGAGAAAGGCTCTTGGAGGTAGAGTGAGATTGGGGAGCTTGGCAGAGCCCTAGGATGAACTGTGTTTTTGTTTTGTTTTGTTGCAGGTTGGAGCCTTTTTCCTGCAGAAAGAGAAGCAATTCCGGGCTTTTCCACAGATAACCTGCTAGGGCTCGCAGAGACCTGGATTCTAACCCCATCTCGCCTTTCCTCACCTGGGGCATTGTTTTCTGCGTTTGAGAACTGCTGGGTGGGCTGGTGTTACCCAGGATTTTTAAATTTTTGCAGGAGACGCTTTGCAGGAGATCTCTAGGGCTTTTTTCTGTGTCAATTAAAGAGCCTGGCCAGCTGGACCTGGGCTGTCTTTTTGACAAAAACAAACGTCATCCCCCTCCCAGCTGAGCACTTGTTAGAACTGGACTTTAACTGAGGGCCTGAACCCCCTAACAACGGGACAAACAGTATGAAATCAAAACCGTTTACCCTCCTCCCACCAGCGGTTTGCGTAGGGCCTTGGGTGCACTAGCAAAACAAACTTATTTTGAACACTCAGCTCCTAGCGTGCGGCGCTGCCAATCATTAACCTCCTGGTGCAAGTGGCGCGGCCTGTGCCCTTTATAAGGTGCGCGCTGTGTCCAGCGAGC\",\n",
    "    \"TTACAACAATCCATGCATACTTTTTTTAAATTTTCTTTTTAGACTCATATTTAGTTTGCTTCAAAAACTAATTGCTCTACTTTATGCAAACACATTATTTTAATATATATTTTGTTGAAAAGATAGTATCCAGATGGTATGCAAGGCTTAGACTCTGACAATTTCAGAGTCAAATTGGGGTCAATAATAATTAAGCAATATTAGCTCATATAATTCTTTTAGTGATTTTATAGGTAGTATTTTGCCCACAATTTCTCAGGTAAGCATAGTACAGCCAGCATTTATATCCAAATTTATTATATCAAATCCATTGCTTTTAAACATTATGCTAGCTTAAACCAGTAGTGTAATTAATTTTATACATTTTACTACATGAAATGAGAAGGTTTACAATATGATTTTTTATAATTCAATGAGTGCTATCTGTGGTAAATAAATAGATAAAAATGTTGATTTTATCTCTAAATTACTGATCTGGGCACCTCTATTTTATGTTTTATACTTAAGGATTTGGTCACTTTTTCAACCTTAAGATCAAAGACAAGATACAGGGAATAATTTTTATTTAATCATTACTTTTTATAAAATATTATCTTCTAATTGTTATATCCTGAAAATTTTTCACAGATTCTGTCTTTCAAATATGTTTCTACTCTCCAGTGAGGATCTAAATTGCACACAATGGACAAAATAGTTATTATAACAAAATCCAAATATAAAATAAATATAATTTTGAAAAGAGAAAAAATAGAAAGAACTACTTTTATGTTCTTAAGATATTAATAGTTCACAGCTTTGAGAAATCAAAGAGTATCTGACAGTACAATTACTAATTAACTTAGATTCCCAGAGAGAAACATTTATGTAAACTACTTTCAGGGTTAAGGCTTTTAACAATTGTATGTTGAGCAGAAGATTATTAAACACTGATAGGCTGGTAAGGGTGCAATAAAACTTTATGAGTAGGTCAATATATACCTAAGCAGCTTTCCTTGATCAT\"\n",
    "]"
   ]
  },
  {
   "cell_type": "markdown",
   "metadata": {},
   "source": [
    "## Hill Climbing"
   ]
  },
  {
   "cell_type": "code",
   "execution_count": null,
   "metadata": {},
   "outputs": [],
   "source": [
    "maximum_restarts = 10"
   ]
  },
  {
   "cell_type": "code",
   "execution_count": null,
   "metadata": {},
   "outputs": [],
   "source": [
    "function calculate_fitness_score(input_strings, motif)\n",
    "    fitness_score = 0\n",
    "    valid = true\n",
    "    for string in input_strings\n",
    "        score = calculate_minimum_hamming_distance(motif, string)\n",
    "        if score > 1\n",
    "            valid = false\n",
    "        end\n",
    "        fitness_score += score\n",
    "    end\n",
    "    return (fitness_score, valid)\n",
    "end"
   ]
  },
  {
   "cell_type": "code",
   "execution_count": null,
   "metadata": {},
   "outputs": [],
   "source": [
    "function check_motif_fitness_score_and_validate(motif,maximum_restarts)\n",
    "    motif_is_valid_for_all_strings_inputs = true\n",
    "    (this_motif_fitness_score, is_motif_valid) = calculate_fitness_score(input_strings, motif)\n",
    "    next_motif = motif\n",
    "    for i in 1:maximum_restarts\n",
    "        adjacent_motif = generate_adjacent_motif(motif)\n",
    "        (adjacent_motif_fitness_score, adjacent_valid) = calculate_fitness_score(adjacent_motif)\n",
    "        if verbose==true\n",
    "            println(\"Motif: \",motif)\n",
    "            println(\"Adjacent_motif: \",adjacent_motif)\n",
    "            println(\"Adjecent motif fitness score: \", adjacent_motif_fitness_score)\n",
    "        end\n",
    "        \n",
    "        if (adjacent_motif_fitness_score < this_motif_fitness_score)\n",
    "            println(Adjacent_motif, \" is better than \", next_motif, \" with \", string(this_motif_fitness_score - adjacent_motif_fitness_score), \" scores.\")\n",
    "            next_motif = adjacent_motif\n",
    "            break\n",
    "        end\n",
    "    end\n",
    "    if (next_motif == motif)\n",
    "        return (motif, this_motif_fitness_score, is_motif_valid)\n",
    "    else\n",
    "        print(\"Going to adjacent motif.\\n\\n\")\n",
    "        return check_motif_fitness_score_and_validate(next_motif,maximum_restarts)\n",
    "    end\n",
    "end"
   ]
  },
  {
   "cell_type": "code",
   "execution_count": null,
   "metadata": {},
   "outputs": [],
   "source": [
    "function start_hill_climbing(input_strings,maximum_restarts)\n",
    "    answers = []\n",
    "    for i in 1:maximum_restarts\n",
    "        (motif, fitness, is_valid) = check_motif_fitness_score_and_validate(generate_random_potential_motif())\n",
    "        if is_valid == true\n",
    "            if isequal(motif in answers, false)\n",
    "                push!(answers,motif)\n",
    "                println(motif, \" is a discovered motif with score of \", map_fitness_to_number(fitness))\n",
    "            end\n",
    "        else\n",
    "            println(motif, \" is not a motif because of \", map_fitness_to_number(fitness), \" fitness score.\")\n",
    "        end\n",
    "    end\n",
    "    \n",
    "    if length(answers) > 0\n",
    "        println(string(length(answers)), \" motif(s) with length of \", string(input_motif_length), \" motifs were discovered.\")\n",
    "    else\n",
    "        println(\"No motifs with length of \", string(input_motif_length), \" were found.\")\n",
    "    end\n",
    "end"
   ]
  },
  {
   "cell_type": "code",
   "execution_count": null,
   "metadata": {},
   "outputs": [],
   "source": [
    "function map_fitness_to_number(fitness)\n",
    "    return string(trunc(Int, ((input_motif_length * length(input_strings)) - (fitness / (length(input_strings) + 1)))))\n",
    "end"
   ]
  },
  {
   "cell_type": "code",
   "execution_count": null,
   "metadata": {},
   "outputs": [],
   "source": [
    "# st = start_time()\n",
    "start_hill_climbing()\n",
    "# end_time(st)"
   ]
  },
  {
   "cell_type": "code",
   "execution_count": null,
   "metadata": {},
   "outputs": [],
   "source": []
  }
 ],
 "metadata": {
  "kernelspec": {
   "display_name": "Julia 1.2.0",
   "language": "julia",
   "name": "julia-1.2"
  },
  "language_info": {
   "file_extension": ".jl",
   "mimetype": "application/julia",
   "name": "julia",
   "version": "1.2.0"
  },
  "toc": {
   "base_numbering": 1,
   "nav_menu": {},
   "number_sections": true,
   "sideBar": true,
   "skip_h1_title": false,
   "title_cell": "Table of Contents",
   "title_sidebar": "Contents",
   "toc_cell": false,
   "toc_position": {},
   "toc_section_display": true,
   "toc_window_display": false
  }
 },
 "nbformat": 4,
 "nbformat_minor": 2
}
